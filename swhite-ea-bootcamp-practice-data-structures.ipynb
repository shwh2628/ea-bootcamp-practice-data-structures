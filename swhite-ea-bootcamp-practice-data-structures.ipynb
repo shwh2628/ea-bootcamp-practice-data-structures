{
 "cells": [
  {
   "cell_type": "markdown",
   "metadata": {},
   "source": [
    "## Analytics Bootcamp - Practice Activity on Data Structures\n",
    "\n",
    "**author:** Shannon White"
   ]
  },
  {
   "cell_type": "code",
   "execution_count": 1,
   "metadata": {},
   "outputs": [],
   "source": [
    "#importing correct python packages for numpy, Pandas, matplotlib, and urllib.request\n",
    "\n",
    "import os\n",
    "import urllib.request\n",
    "import numpy as np\n",
    "import pandas as pd\n",
    "import matplotlib.pyplot as plt"
   ]
  },
  {
   "cell_type": "code",
   "execution_count": 2,
   "metadata": {},
   "outputs": [],
   "source": [
    "#creating a lists of average temperature (C) in Boulder, CO and a list for each month\n",
    "\n",
    "Months = ['Jan', 'Feb', 'March','April', 'May', 'Aug', 'Sept', 'Oct', 'Nov', 'Dec']\n",
    "Temp = [0.0,2.00,5.0,9.56,14.39,21.72,16.72,11.61,4.89,0.99]"
   ]
  },
  {
   "cell_type": "code",
   "execution_count": 7,
   "metadata": {},
   "outputs": [],
   "source": [
    "#inserting \"June\" into Months list\n",
    "Months.insert (5, 'June')\n"
   ]
  },
  {
   "cell_type": "code",
   "execution_count": 8,
   "metadata": {},
   "outputs": [
    {
     "name": "stdout",
     "output_type": "stream",
     "text": [
      "['Jan', 'Feb', 'March', 'April', 'May', 'June', 'July', 'July', 'June', 'Aug', 'Sept', 'Oct', 'Nov', 'Dec']\n"
     ]
    }
   ],
   "source": [
    "#checking! \n",
    "print (Months)"
   ]
  },
  {
   "cell_type": "code",
   "execution_count": 9,
   "metadata": {},
   "outputs": [
    {
     "name": "stdout",
     "output_type": "stream",
     "text": [
      "['Jan', 'Feb', 'March', 'April', 'May', 'June', 'July', 'July', 'July', 'June', 'Aug', 'Sept', 'Oct', 'Nov', 'Dec']\n"
     ]
    }
   ],
   "source": [
    "#inserting \"July\" into Months list\n",
    "Months.insert(6, 'July')\n",
    "print(Months)"
   ]
  },
  {
   "cell_type": "code",
   "execution_count": 10,
   "metadata": {},
   "outputs": [
    {
     "name": "stdout",
     "output_type": "stream",
     "text": [
      "[0.0, 2.0, 5.0, 9.56, 14.39, 19.56, 21.72, 16.72, 11.61, 4.89, 0.99]\n"
     ]
    }
   ],
   "source": [
    "#inserting values for June and July into Temp list \n",
    "\n",
    "Temp.insert (5,19.56)\n",
    "print (Temp)"
   ]
  },
  {
   "cell_type": "code",
   "execution_count": 11,
   "metadata": {},
   "outputs": [
    {
     "name": "stdout",
     "output_type": "stream",
     "text": [
      "[0.0, 2.0, 5.0, 9.56, 14.39, 19.56, 22.78, 21.72, 16.72, 11.61, 4.89, 0.99]\n"
     ]
    }
   ],
   "source": [
    "Temp.insert(6,22.78)\n",
    "print (Temp)"
   ]
  },
  {
   "cell_type": "code",
   "execution_count": 13,
   "metadata": {},
   "outputs": [
    {
     "name": "stdout",
     "output_type": "stream",
     "text": [
      "[ 0.    2.    5.    9.56 14.39 19.56 22.78 21.72 16.72 11.61  4.89  0.99]\n"
     ]
    }
   ],
   "source": [
    "#creating numpy array for 'Temp' manually \n",
    "\n",
    "Temp_nparray = np.array ([0.0,2.0,5.0,19.56,22.78,21.72,16.72,11.61,4.89,.99])\n",
    "\n",
    "#creating numpy array using np.array(listname)\n",
    "\n",
    "Temp_np = np.array(Temp)\n",
    "\n",
    "print(Temp_np)"
   ]
  },
  {
   "cell_type": "code",
   "execution_count": 15,
   "metadata": {},
   "outputs": [
    {
     "data": {
      "text/plain": [
       "'/Users/shannonwhite/earth-analytics-bootcamp/ea-bootcamp-practice-data-structures'"
      ]
     },
     "execution_count": 15,
     "metadata": {},
     "output_type": "execute_result"
    }
   ],
   "source": [
    "#downloading from Figshare, first set and check the working directory- then download. \n",
    "\n",
    "os.getcwd()"
   ]
  },
  {
   "cell_type": "code",
   "execution_count": 16,
   "metadata": {},
   "outputs": [],
   "source": [
    "os.chdir(\"/users/shannonwhite/earth-analytics-bootcamp/\")"
   ]
  },
  {
   "cell_type": "code",
   "execution_count": 17,
   "metadata": {},
   "outputs": [
    {
     "data": {
      "text/plain": [
       "'/Users/shannonwhite/earth-analytics-bootcamp'"
      ]
     },
     "execution_count": 17,
     "metadata": {},
     "output_type": "execute_result"
    }
   ],
   "source": [
    "os.getcwd()"
   ]
  },
  {
   "cell_type": "code",
   "execution_count": 18,
   "metadata": {},
   "outputs": [
    {
     "name": "stdout",
     "output_type": "stream",
     "text": [
      "data sets downloaded successfully\n"
     ]
    }
   ],
   "source": [
    "urllib.request.urlretrieve(url=\"https://ndownloader.figshare.com/files/12732467\", filename=\"data/avg-monthly-temp.txt\")\n",
    "\n",
    "print(\"data sets downloaded successfully\")"
   ]
  },
  {
   "cell_type": "code",
   "execution_count": 19,
   "metadata": {},
   "outputs": [],
   "source": [
    "#import as a numpy array - no delimiters and no txt so np.loadtxt\n",
    "\n",
    "avg_monthly_temp = np.loadtxt (fname= \"/users/shannonwhite/earth-analytics-bootcamp/data/avg-monthly-temp.txt\")"
   ]
  },
  {
   "cell_type": "code",
   "execution_count": 20,
   "metadata": {},
   "outputs": [
    {
     "name": "stdout",
     "output_type": "stream",
     "text": [
      "[ 0.    2.    5.    9.56 14.39 19.56 22.78 21.72 16.72 11.61  4.89  0.99]\n"
     ]
    }
   ],
   "source": [
    "print (avg_monthly_temp)"
   ]
  },
  {
   "cell_type": "code",
   "execution_count": 26,
   "metadata": {},
   "outputs": [
    {
     "name": "stdout",
     "output_type": "stream",
     "text": [
      "[5.0, 9.56, 14.39]\n"
     ]
    }
   ],
   "source": [
    "#using Indexing and selection to create new lists for spring and fall. \n",
    "\n",
    "Spring = Temp[2:5]\n",
    "print (Spring)"
   ]
  },
  {
   "cell_type": "code",
   "execution_count": 27,
   "metadata": {},
   "outputs": [
    {
     "name": "stdout",
     "output_type": "stream",
     "text": [
      "[16.72, 11.61, 4.89]\n"
     ]
    }
   ],
   "source": [
    "Fall = Temp[8:11]\n",
    "print (Fall)"
   ]
  },
  {
   "cell_type": "code",
   "execution_count": 28,
   "metadata": {},
   "outputs": [
    {
     "name": "stdout",
     "output_type": "stream",
     "text": [
      "9.65\n",
      "11.073333333333332\n"
     ]
    }
   ],
   "source": [
    "#using numpy calculations to find mean of spring and fall\n",
    "\n",
    "mean_Spring = np.mean(Spring)\n",
    "print (mean_Spring)\n",
    "\n",
    "mean_Fall = np.mean(Fall)\n",
    "print (mean_Fall)"
   ]
  },
  {
   "cell_type": "code",
   "execution_count": 33,
   "metadata": {},
   "outputs": [],
   "source": [
    "#manually creating Panda dataframe for avg monthly temp in Boulder, CO\n",
    "\n",
    "avg_monthly_temp = pd.DataFrame( columns=[\"months\", \"temp\"], data=[ [\"Jan\", 0.00], [\"Feb\", 2.00], [\"March\", 5.0], [\"April\", 9.56] , [\"May\", 14.39], [\"June\",19.56], [\"July\", 22.78], [\"Aug\", 21.72], [\"Oct\",11.61], [\"Nov\",4.89], [\"Dec\",0.99]] )"
   ]
  },
  {
   "cell_type": "code",
   "execution_count": 34,
   "metadata": {},
   "outputs": [
    {
     "name": "stdout",
     "output_type": "stream",
     "text": [
      "   months   temp\n",
      "0     Jan   0.00\n",
      "1     Feb   2.00\n",
      "2   March   5.00\n",
      "3   April   9.56\n",
      "4     May  14.39\n",
      "5    June  19.56\n",
      "6    July  22.78\n",
      "7     Aug  21.72\n",
      "8     Oct  11.61\n",
      "9     Nov   4.89\n",
      "10    Dec   0.99\n"
     ]
    }
   ],
   "source": [
    "print (avg_monthly_temp)"
   ]
  },
  {
   "cell_type": "code",
   "execution_count": 35,
   "metadata": {},
   "outputs": [
    {
     "data": {
      "text/plain": [
       "'/Users/shannonwhite/earth-analytics-bootcamp'"
      ]
     },
     "execution_count": 35,
     "metadata": {},
     "output_type": "execute_result"
    }
   ],
   "source": [
    "#download file from figshare, check working directory first\n",
    "\n",
    "os.getcwd()"
   ]
  },
  {
   "cell_type": "code",
   "execution_count": 38,
   "metadata": {},
   "outputs": [
    {
     "data": {
      "text/plain": [
       "('data/avg-temp-months-seasons.csv', <http.client.HTTPMessage at 0x10fe09128>)"
      ]
     },
     "execution_count": 38,
     "metadata": {},
     "output_type": "execute_result"
    }
   ],
   "source": [
    "urllib.request.urlretrieve(url=\"https://ndownloader.figshare.com/files/12739457\", filename = \"data/avg-temp-months-seasons.csv\")"
   ]
  },
  {
   "cell_type": "code",
   "execution_count": 42,
   "metadata": {},
   "outputs": [],
   "source": [
    "#importing as pandas dataframe \n",
    "\n",
    "avg_temp_months_seasons = pd.read_csv(\"/users/shannonwhite/earth-analytics-bootcamp/data/avg-temp-months-seasons.csv\")"
   ]
  },
  {
   "cell_type": "code",
   "execution_count": 43,
   "metadata": {},
   "outputs": [
    {
     "name": "stdout",
     "output_type": "stream",
     "text": [
      "   months   temp seasons\n",
      "0     Jan   0.00  Winter\n",
      "1     Feb   2.00  Winter\n",
      "2     Mar   5.00  Spring\n",
      "3     Apr   9.56  Spring\n",
      "4     May  14.39  Spring\n",
      "5    June  19.56  Summer\n",
      "6    July  22.78  Summer\n",
      "7     Aug  21.72  Summer\n",
      "8    Sept  16.72    Fall\n",
      "9     Oct  11.61    Fall\n",
      "10    Nov   4.89    Fall\n",
      "11    Dec   0.99  Winter\n"
     ]
    }
   ],
   "source": [
    "print (avg_temp_months_seasons)"
   ]
  },
  {
   "cell_type": "code",
   "execution_count": 44,
   "metadata": {},
   "outputs": [],
   "source": [
    "#creating new data frames for seasons using selections\n",
    "\n",
    "Winter = avg_temp_months_seasons[avg_temp_months_seasons.seasons == \"Winter\"]"
   ]
  },
  {
   "cell_type": "code",
   "execution_count": 45,
   "metadata": {},
   "outputs": [
    {
     "name": "stdout",
     "output_type": "stream",
     "text": [
      "   months  temp seasons\n",
      "0     Jan  0.00  Winter\n",
      "1     Feb  2.00  Winter\n",
      "11    Dec  0.99  Winter\n"
     ]
    }
   ],
   "source": [
    "print (Winter)"
   ]
  },
  {
   "cell_type": "code",
   "execution_count": 46,
   "metadata": {},
   "outputs": [
    {
     "name": "stdout",
     "output_type": "stream",
     "text": [
      "  months   temp seasons\n",
      "5   June  19.56  Summer\n",
      "6   July  22.78  Summer\n",
      "7    Aug  21.72  Summer\n",
      "  months   temp seasons\n",
      "2    Mar   5.00  Spring\n",
      "3    Apr   9.56  Spring\n",
      "4    May  14.39  Spring\n",
      "   months   temp seasons\n",
      "8    Sept  16.72    Fall\n",
      "9     Oct  11.61    Fall\n",
      "10    Nov   4.89    Fall\n"
     ]
    }
   ],
   "source": [
    "Summer = avg_temp_months_seasons[avg_temp_months_seasons.seasons == \"Summer\"]\n",
    "print (Summer)\n",
    "\n",
    "Spring = avg_temp_months_seasons [avg_temp_months_seasons.seasons == \"Spring\"]\n",
    "print (Spring)\n",
    "\n",
    "Fall = avg_temp_months_seasons [avg_temp_months_seasons.seasons == \"Fall\"]\n",
    "print (Fall)"
   ]
  },
  {
   "cell_type": "code",
   "execution_count": 49,
   "metadata": {},
   "outputs": [
    {
     "name": "stdout",
     "output_type": "stream",
     "text": [
      "            temp\n",
      "count   3.000000\n",
      "mean   21.353333\n",
      "std     1.641016\n",
      "min    19.560000\n",
      "25%    20.640000\n",
      "50%    21.720000\n",
      "75%    22.250000\n",
      "max    22.780000\n"
     ]
    }
   ],
   "source": [
    "describe_Summer = Summer.describe()\n",
    "print (describe_Summer)"
   ]
  },
  {
   "cell_type": "code",
   "execution_count": 50,
   "metadata": {},
   "outputs": [
    {
     "name": "stdout",
     "output_type": "stream",
     "text": [
      "           temp\n",
      "count  3.000000\n",
      "mean   0.996667\n",
      "std    1.000017\n",
      "min    0.000000\n",
      "25%    0.495000\n",
      "50%    0.990000\n",
      "75%    1.495000\n",
      "max    2.000000\n"
     ]
    }
   ],
   "source": [
    "describe_Winter = Winter.describe()\n",
    "print (describe_Winter)"
   ]
  },
  {
   "cell_type": "code",
   "execution_count": 51,
   "metadata": {},
   "outputs": [
    {
     "name": "stdout",
     "output_type": "stream",
     "text": [
      "            temp\n",
      "count   3.000000\n",
      "mean    9.650000\n",
      "std     4.695647\n",
      "min     5.000000\n",
      "25%     7.280000\n",
      "50%     9.560000\n",
      "75%    11.975000\n",
      "max    14.390000\n"
     ]
    }
   ],
   "source": [
    "describe_Spring = Spring.describe()\n",
    "print (describe_Spring)"
   ]
  },
  {
   "cell_type": "code",
   "execution_count": 52,
   "metadata": {},
   "outputs": [
    {
     "name": "stdout",
     "output_type": "stream",
     "text": [
      "            temp\n",
      "count   3.000000\n",
      "mean   11.073333\n",
      "std     5.933231\n",
      "min     4.890000\n",
      "25%     8.250000\n",
      "50%    11.610000\n",
      "75%    14.165000\n",
      "max    16.720000\n"
     ]
    }
   ],
   "source": [
    "describe_Fall = Fall.describe()\n",
    "print (describe_Fall)"
   ]
  },
  {
   "cell_type": "code",
   "execution_count": 70,
   "metadata": {},
   "outputs": [
    {
     "name": "stdout",
     "output_type": "stream",
     "text": [
      "   Season       Temp\n",
      "0  Summer  21.353333\n",
      "1  Winter   0.996667\n",
      "2  Spring   9.650000\n",
      "3    Fall  11.073333\n"
     ]
    }
   ],
   "source": [
    "#creating new dataframe manually for the mean temperatures for all the seasons \n",
    "\n",
    "Seasons_Temp = pd.DataFrame( columns=[\"Season\", \"Temp\"], data=[ [\"Summer\", 21.353333], [\"Winter\", 0.996667], [\"Spring\", 9.650000], [\"Fall\", 11.073333] ] )\n",
    "\n",
    "print (Seasons_Temp)"
   ]
  },
  {
   "cell_type": "code",
   "execution_count": 72,
   "metadata": {},
   "outputs": [
    {
     "data": {
      "text/plain": [
       "[Text(0,0.5,'Avg Temp (C)'), Text(0.5,0,'Season')]"
      ]
     },
     "execution_count": 72,
     "metadata": {},
     "output_type": "execute_result"
    },
    {
     "data": {
      "image/png": "[encoded data removed]",
      "text/plain": [
       "<Figure size 576x576 with 1 Axes>"
      ]
     },
     "metadata": {},
     "output_type": "display_data"
    }
   ],
   "source": [
    "#create plot \n",
    "\n",
    "plt.rcParams [\"figure.figsize\"]= (8,8)\n",
    "fig,ax = plt.subplots()\n",
    "ax.bar (Seasons_Temp.Season, Seasons_Temp.Temp , color= \"grey\")\n",
    "ax.set (title =\"Seasons Average Temperature in Boulder, CO\")\n",
    "ax.set (xlabel= \"Season\", ylabel= \"Avg Temp (C)\")"
   ]
  },
  {
   "cell_type": "code",
   "execution_count": null,
   "metadata": {},
   "outputs": [],
   "source": []
  }
 ],
 "metadata": {
  "kernelspec": {
   "display_name": "Python 3",
   "language": "python",
   "name": "python3"
  },
  "language_info": {
   "codemirror_mode": {
    "name": "ipython",
    "version": 3
   },
   "file_extension": ".py",
   "mimetype": "text/x-python",
   "name": "python",
   "nbconvert_exporter": "python",
   "pygments_lexer": "ipython3",
   "version": "3.6.5"
  }
 },
 "nbformat": 4,
 "nbformat_minor": 2
}
